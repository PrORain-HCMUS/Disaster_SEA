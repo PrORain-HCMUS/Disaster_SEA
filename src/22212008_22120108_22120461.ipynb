{
 "cells": [
  {
   "cell_type": "markdown",
   "metadata": {},
   "source": [
    "# Final Project: Coding for Data Science\n",
    "\n",
    "## Title: Analyze natural disasters that occurred in Southeast Asia from 2000 to early 2024 and predict the natural disasters that may happen in Vietnam in the coming years.\n",
    "\n",
    "### Advisor:\n",
    "- Mr. Phạm Trọng Nghĩa  \n",
    "- Mr. Lê Ngọc Thành  \n",
    "- Mr. Vũ Công Thành  \n",
    "\n",
    "### Student:\n",
    "- Trần Trường Giang - 22120085  \n",
    "- Lê Đại Hòa - 22120108  \n",
    "- Lê Hoàng Vũ - 22120461\n"
   ]
  },
  {
   "cell_type": "markdown",
   "metadata": {},
   "source": [
    "# A. INTRODUCTION\n",
    "- This notebook is the result of a Data Science project where we processed with datasets of natural disasters occured in the area of Southeast Asia from 2000 to the early 2024. We aimed to reviewing the recent circumstance of the local area in the last 2 decades, withdrawing valuable conclusions, visualizing some noteworthy parts and last but not least: giving some promising predictions."
   ]
  },
  {
   "cell_type": "markdown",
   "metadata": {},
   "source": [
    "# B. ABOUT THE DATA\n",
    "- We decided to approach this project by the dataset of EM-DAT. EM-DAT (Emergency Events Database) is a global database of disasters developed by the Center for Research on the Epidemiology of Disasters (CRED). The main objective of EM-DAT is to record and provide comprehensive information about major natural and man-made disasters worldwide, ranging from climate-related events (hurricanes, floods, droughts, etc.) to industrial accidents and armed conflicts.\n",
    "\n",
    "- EM-DAT is an important resource for researchers, governments, and international organizations when studying and preparing for disasters. However, it's noteworthy that this database records events based on criteria such as:\n",
    "\n",
    "    - At least 10 deaths (including dead and missing).\n",
    "    - At least 100 people affected.\n",
    "    - International assistance is required or an emergency declaration is requested from the government.\n",
    "    - The level of disasters\n",
    "    - And so on"
   ]
  },
  {
   "cell_type": "markdown",
   "metadata": {},
   "source": [
    "# C. IMPLEMENT"
   ]
  },
  {
   "cell_type": "markdown",
   "metadata": {},
   "source": [
    "## 1. Import libraries"
   ]
  },
  {
   "cell_type": "code",
   "execution_count": null,
   "metadata": {},
   "outputs": [],
   "source": [
    "import pandas as pd\n",
    "import numpy as np\n",
    "import matplotlib.pyplot as plt\n",
    "import seaborn as sns\n",
    "import os"
   ]
  },
  {
   "cell_type": "markdown",
   "metadata": {},
   "source": [
    "## 2. Data collection"
   ]
  },
  {
   "cell_type": "markdown",
   "metadata": {},
   "source": [
    "## 3. Data preprocessing and exploration"
   ]
  },
  {
   "cell_type": "markdown",
   "metadata": {},
   "source": [
    "### 3.0 How many rows and columns are there in the dataset?"
   ]
  },
  {
   "cell_type": "markdown",
   "metadata": {},
   "source": [
    "### 3.1 Explore rows"
   ]
  },
  {
   "cell_type": "markdown",
   "metadata": {},
   "source": [
    "### 3.2 Explore columns"
   ]
  },
  {
   "cell_type": "markdown",
   "metadata": {},
   "source": [
    "### 3.3 Handle missing data & Convert data"
   ]
  },
  {
   "cell_type": "markdown",
   "metadata": {},
   "source": [
    "### 3.4 Data distribution"
   ]
  },
  {
   "cell_type": "markdown",
   "metadata": {},
   "source": [
    "## 4. Question proposing & Answering"
   ]
  },
  {
   "cell_type": "markdown",
   "metadata": {},
   "source": [
    "### 4.1 What are the most common types of natural disasters that occurred in Southeast Asia from 2000 to early 2024?\n",
    "- (e.g., floods, typhoons, earthquakes, etc.)\n",
    "\n"
   ]
  },
  {
   "cell_type": "markdown",
   "metadata": {},
   "source": [
    "### 4.2 What are the main causes of natural disasters in Southeast Asia, and how do they differ between regions?\n",
    "- (e.g., climate change, tectonic activity, deforestation, etc.)\n",
    "\n"
   ]
  },
  {
   "cell_type": "markdown",
   "metadata": {},
   "source": [
    "### 4.3 The level of impact of natural disasters in countries in recent times.\n",
    "- (e.g., money, facilities, human.)\n",
    "\n",
    "\n",
    "\n"
   ]
  },
  {
   "cell_type": "markdown",
   "metadata": {},
   "source": [
    "\n",
    "### 4.4 What is the trend of natural disaster occurrences over the years in Southeast Asia?\n",
    "- (e.g., increasing, decreasing, or fluctuating patterns.)\n"
   ]
  },
  {
   "cell_type": "markdown",
   "metadata": {},
   "source": [
    "### 4.5 Which provinces in Vietnam have the most storms and floods in a year? Calculated based on the last 3 years.\n"
   ]
  },
  {
   "cell_type": "markdown",
   "metadata": {},
   "source": [
    "### 4.6 Predict the natural disasters that may happen in Vietnam in the coming years."
   ]
  },
  {
   "cell_type": "markdown",
   "metadata": {},
   "source": [
    "## 5. Evaluate"
   ]
  },
  {
   "cell_type": "markdown",
   "metadata": {},
   "source": [
    "# D. CONCLUSION"
   ]
  },
  {
   "cell_type": "markdown",
   "metadata": {},
   "source": [
    "# E. REFERENCES"
   ]
  }
 ],
 "metadata": {
  "kernelspec": {
   "display_name": "Python 3",
   "language": "python",
   "name": "python3"
  },
  "language_info": {
   "codemirror_mode": {
    "name": "ipython",
    "version": 3
   },
   "file_extension": ".py",
   "mimetype": "text/x-python",
   "name": "python",
   "nbconvert_exporter": "python",
   "pygments_lexer": "ipython3",
   "version": "3.12.7"
  }
 },
 "nbformat": 4,
 "nbformat_minor": 2
}
